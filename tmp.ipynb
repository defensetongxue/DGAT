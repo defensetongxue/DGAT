{
 "cells": [
  {
   "cell_type": "code",
   "execution_count": 39,
   "metadata": {},
   "outputs": [
    {
     "name": "stderr",
     "output_type": "stream",
     "text": [
      "c:\\Users\\guoyi\\Desktop\\reasearch\\process.py:143: FutureWarning: adjacency_matrix will return a scipy.sparse array instead of a matrix in Networkx 3.0.\n",
      "  adj = nx.adjacency_matrix(G, sorted(G.nodes()))\n"
     ]
    }
   ],
   "source": [
    "import numpy as np\n",
    "import torch\n",
    "import torch.nn.functional as F\n",
    "import torch.optim as optim\n",
    "from process import *\n",
    "from utils import *\n",
    "from model import *\n",
    "\n",
    "datastr = 'chameleon'\n",
    "splitstr = 'splits/chameleon_split_0.6_0.2_0.npz'\n",
    "adj, adj_i, features, labels, idx_train, idx_val, idx_test = full_load_data(\n",
    "        datastr, splitstr)\n",
    "adj = adj.to_dense()\n",
    "adj_i = adj_i.to_dense()"
   ]
  },
  {
   "cell_type": "code",
   "execution_count": 40,
   "metadata": {},
   "outputs": [],
   "source": [
    "adj_list=[]\n",
    "att=[0.6,0.3,0.1]\n",
    "for i in range(10):\n",
    "    adj_tmp=torch.mm(features,features.T)\n",
    "    adj_tmp=torch.where(adj>0,adj_tmp,torch.ones_like(adj)*-9e15)\n",
    "    adj_tmp=F.softmax(adj_tmp,dim=1)\n",
    "    features=torch.mm(adj_i,features)\n",
    "    adj_list.append(adj_tmp)\n"
   ]
  },
  {
   "cell_type": "code",
   "execution_count": 42,
   "metadata": {},
   "outputs": [
    {
     "data": {
      "text/plain": [
       "tensor([[0.0000, 0.0000, 0.0000,  ..., 0.0000, 0.0000, 0.0000],\n",
       "        [0.0000, 0.0000, 0.0000,  ..., 0.0000, 0.0000, 0.0000],\n",
       "        [0.0000, 0.0000, 0.0000,  ..., 0.0000, 0.0500, 0.0000],\n",
       "        ...,\n",
       "        [0.0000, 0.0000, 0.0000,  ..., 0.0000, 0.0000, 0.0000],\n",
       "        [0.0000, 0.0000, 0.0000,  ..., 0.0000, 0.0000, 0.0000],\n",
       "        [0.0000, 0.0000, 0.0000,  ..., 0.0000, 0.0000, 0.0909]])"
      ]
     },
     "execution_count": 42,
     "metadata": {},
     "output_type": "execute_result"
    }
   ],
   "source": [
    "adj_list[9]"
   ]
  }
 ],
 "metadata": {
  "interpreter": {
   "hash": "a936edc0776b70b2545307b06dca0c81db06a21d25a2c52c14939b61bd2224bd"
  },
  "kernelspec": {
   "display_name": "Python 3.9.7 ('reasearch')",
   "language": "python",
   "name": "python3"
  },
  "language_info": {
   "codemirror_mode": {
    "name": "ipython",
    "version": 3
   },
   "file_extension": ".py",
   "mimetype": "text/x-python",
   "name": "python",
   "nbconvert_exporter": "python",
   "pygments_lexer": "ipython3",
   "version": "3.9.7"
  },
  "orig_nbformat": 4
 },
 "nbformat": 4,
 "nbformat_minor": 2
}
